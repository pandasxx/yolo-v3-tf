{
 "cells": [
  {
   "cell_type": "markdown",
   "metadata": {},
   "source": [
    "### import libs"
   ]
  },
  {
   "cell_type": "code",
   "execution_count": 16,
   "metadata": {},
   "outputs": [
    {
     "name": "stdout",
     "output_type": "stream",
     "text": [
      "The autoreload extension is already loaded. To reload it, use:\n",
      "  %reload_ext autoreload\n"
     ]
    }
   ],
   "source": [
    "from predict.predict import *\n",
    "% load_ext autoreload\n",
    "% autoreload 2"
   ]
  },
  {
   "cell_type": "markdown",
   "metadata": {},
   "source": [
    "### init model"
   ]
  },
  {
   "cell_type": "code",
   "execution_count": 21,
   "metadata": {},
   "outputs": [
    {
     "name": "stdout",
     "output_type": "stream",
     "text": [
      "darknet\n",
      "(?, 608, 608, 3)\n"
     ]
    }
   ],
   "source": [
    "model_predict = YOLO_PREDICT(gpu = \"0\")"
   ]
  },
  {
   "cell_type": "markdown",
   "metadata": {},
   "source": [
    "### gen test data"
   ]
  },
  {
   "cell_type": "code",
   "execution_count": 22,
   "metadata": {},
   "outputs": [
    {
     "name": "stdout",
     "output_type": "stream",
     "text": [
      "(5, 608, 608, 3)\n"
     ]
    }
   ],
   "source": [
    "img_resize = cfg.train.image_resized\n",
    "image_test = Image.open('dog.jpg')\n",
    "resized_image = image_test.resize((img_resize, img_resize), Image.BICUBIC)\n",
    "image_data1 = np.array(resized_image, dtype='float32')\n",
    "\n",
    "image_test = Image.open('test.jpg')\n",
    "resized_image = image_test.resize((img_resize, img_resize), Image.BICUBIC)\n",
    "image_data2 = np.array(resized_image, dtype='float32')\n",
    "\n",
    "image_data = np.stack((image_data2, image_data1,image_data2, image_data1, image_data2))\n",
    "print(image_data.shape)"
   ]
  },
  {
   "cell_type": "markdown",
   "metadata": {},
   "source": [
    "### do predict"
   ]
  },
  {
   "cell_type": "code",
   "execution_count": 26,
   "metadata": {},
   "outputs": [
    {
     "name": "stdout",
     "output_type": "stream",
     "text": [
      "INFO:tensorflow:Restoring parameters from ./ckpt/yolov3.ckpt-50001\n"
     ]
    }
   ],
   "source": [
    "img_id_list = [\"0\", \"1\", \"2\", \"3\", \"4\"]\n",
    "model_predict.predict_imgs(image_data, img_id_list)"
   ]
  },
  {
   "cell_type": "code",
   "execution_count": 31,
   "metadata": {},
   "outputs": [
    {
     "name": "stdout",
     "output_type": "stream",
     "text": [
      "#img_id is 0#\n",
      "[[ 236.95947266   99.02166748  418.59063721  299.2911377 ]\n",
      " [  72.08097839  123.57663727  403.97561646  415.80300903]\n",
      " [ 356.80581665  382.77346802  557.71008301  608.        ]\n",
      " [ 133.46351624    0.          423.10681152  215.12161255]\n",
      " [ 432.91235352   67.78265381  608.          276.55718994]]\n",
      "[ 0.93634534  0.81332016  0.65029818  0.64678603  0.35471582]\n",
      "[2 3 4 2 4]\n",
      "#img_id is 1#\n",
      "[[ 181.70236206  140.17556763  423.50167847  353.73834229]\n",
      " [ 423.25415039   75.34571838  608.          209.12716675]]\n",
      "[ 0.61964929  0.34239063]\n",
      "[4 3]\n",
      "#img_id is 2#\n",
      "[[ 236.95947266   99.02166748  418.59063721  299.2911377 ]\n",
      " [  72.08097839  123.57663727  403.97561646  415.80300903]\n",
      " [ 356.80581665  382.77346802  557.71008301  608.        ]\n",
      " [ 133.46351624    0.          423.10681152  215.12161255]\n",
      " [ 432.91235352   67.78265381  608.          276.55718994]]\n",
      "[ 0.93634534  0.81332016  0.65029818  0.64678603  0.35471582]\n",
      "[2 3 4 2 4]\n",
      "#img_id is 3#\n",
      "[[ 181.70236206  140.17556763  423.50167847  353.73834229]\n",
      " [ 423.25415039   75.34571838  608.          209.12716675]]\n",
      "[ 0.61964929  0.34239063]\n",
      "[4 3]\n",
      "#img_id is 4#\n",
      "[[ 236.95947266   99.02166748  418.59063721  299.2911377 ]\n",
      " [  72.08097839  123.57663727  403.97561646  415.80300903]\n",
      " [ 356.80581665  382.77346802  557.71008301  608.        ]\n",
      " [ 133.46351624    0.          423.10681152  215.12161255]\n",
      " [ 432.91235352   67.78265381  608.          276.55718994]]\n",
      "[ 0.93634534  0.81332016  0.65029818  0.64678603  0.35471582]\n",
      "[2 3 4 2 4]\n"
     ]
    }
   ],
   "source": [
    "for img_id in img_id_list:\n",
    "    print(\"#img_id is %s#\" % img_id)\n",
    "    print(model_predict.boxes_dict[img_id])\n",
    "    print(model_predict.scores_dict[img_id])\n",
    "    print(model_predict.classes_dict[img_id])"
   ]
  },
  {
   "cell_type": "code",
   "execution_count": null,
   "metadata": {
    "collapsed": true
   },
   "outputs": [],
   "source": []
  }
 ],
 "metadata": {
  "kernelspec": {
   "display_name": "Python 3",
   "language": "python",
   "name": "python3"
  },
  "language_info": {
   "codemirror_mode": {
    "name": "ipython",
    "version": 3
   },
   "file_extension": ".py",
   "mimetype": "text/x-python",
   "name": "python",
   "nbconvert_exporter": "python",
   "pygments_lexer": "ipython3",
   "version": "3.5.4"
  }
 },
 "nbformat": 4,
 "nbformat_minor": 2
}
