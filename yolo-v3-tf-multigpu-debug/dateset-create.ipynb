{
 "cells": [
  {
   "cell_type": "code",
   "execution_count": 8,
   "metadata": {},
   "outputs": [
    {
     "name": "stdout",
     "output_type": "stream",
     "text": [
      "The autoreload extension is already loaded. To reload it, use:\n",
      "  %reload_ext autoreload\n"
     ]
    }
   ],
   "source": [
    "from data.create_tfrecord import *\n",
    "import os\n",
    "% load_ext autoreload\n",
    "% autoreload 2"
   ]
  },
  {
   "cell_type": "markdown",
   "metadata": {},
   "source": [
    "### make train data"
   ]
  },
  {
   "cell_type": "code",
   "execution_count": 6,
   "metadata": {},
   "outputs": [
    {
     "name": "stdout",
     "output_type": "stream",
     "text": [
      "/home/sakulaki/code/yolo-v3-tf-remote/yolo-v3-tf-multigpu-debug\n"
     ]
    }
   ],
   "source": [
    "train_data_src_path = '/home/sakulaki/dataset/tct_data608_0716_5classes_rotated/train.txt'\n",
    "train_data_dst_dir = '/home/sakulaki/dataset/tfrecord_files'\n",
    "nvme_cache_path = '/home/tsimage-x/dataset-switch/'\n",
    "classes = [\"ASCUS\", \"LSIL\", \"ASCH\", \"HSIL\", \"SCC\"]\n",
    "\n",
    "make_tfrecord_files(src_path = train_data_src_path, \n",
    "                    dst_path = train_data_dst_dir, \n",
    "                    nvme_path = nvme_cache_path, \n",
    "                    name = 'tct_data608_0716_5classes_rotated_train', \n",
    "                    classes = classes,\n",
    "                    num_split = 10000)"
   ]
  },
  {
   "cell_type": "markdown",
   "metadata": {},
   "source": [
    "### make test data"
   ]
  },
  {
   "cell_type": "code",
   "execution_count": 9,
   "metadata": {
    "scrolled": true
   },
   "outputs": [
    {
     "name": "stdout",
     "output_type": "stream",
     "text": [
      "make 0 file\n",
      "1000\n",
      "make 0 file done\n",
      "move 0 file done\n"
     ]
    }
   ],
   "source": [
    "train_data_src_path = '/home/sakulaki/dataset/tct_data608_0716_5classes_rotated/test.txt'\n",
    "train_data_dst_dir = '/home/sakulaki/dataset/tfrecord_files'\n",
    "nvme_cache_path = '/home/tsimage-x/dataset-switch/'\n",
    "classes = [\"ASCUS\", \"LSIL\", \"ASCH\", \"HSIL\", \"SCC\"]\n",
    "\n",
    "make_tfrecord_files(src_path = train_data_src_path, \n",
    "                    dst_path = train_data_dst_dir, \n",
    "                    nvme_path = nvme_cache_path, \n",
    "                    name = 'tct_data608_0716_5classes_rotated_test', \n",
    "                    classes = classes,\n",
    "                    num_split = 10000)\n",
    "\n"
   ]
  },
  {
   "cell_type": "markdown",
   "metadata": {},
   "source": [
    "### make validate data"
   ]
  },
  {
   "cell_type": "code",
   "execution_count": 11,
   "metadata": {},
   "outputs": [
    {
     "name": "stdout",
     "output_type": "stream",
     "text": [
      "make 0 file\n",
      "1000\n",
      "make 0 file done\n",
      "move 0 file done\n"
     ]
    }
   ],
   "source": [
    "train_data_src_path = '/home/sakulaki/dataset/tct_data608_0716_5classes_rotated/validate.txt'\n",
    "train_data_dst_dir = '/home/sakulaki/dataset/tfrecord_files'\n",
    "nvme_cache_path = '/home/tsimage-x/dataset-switch/'\n",
    "classes = [\"ASCUS\", \"LSIL\", \"ASCH\", \"HSIL\", \"SCC\"]\n",
    "\n",
    "make_tfrecord_files(src_path = train_data_src_path, \n",
    "                    dst_path = train_data_dst_dir, \n",
    "                    nvme_path = nvme_cache_path, \n",
    "                    name = 'tct_data608_0716_5classes_rotated_validate', \n",
    "                    classes = classes,\n",
    "                    num_split = 10000)"
   ]
  },
  {
   "cell_type": "code",
   "execution_count": null,
   "metadata": {
    "collapsed": true
   },
   "outputs": [],
   "source": []
  }
 ],
 "metadata": {
  "kernelspec": {
   "display_name": "Python 3",
   "language": "python",
   "name": "python3"
  },
  "language_info": {
   "codemirror_mode": {
    "name": "ipython",
    "version": 3
   },
   "file_extension": ".py",
   "mimetype": "text/x-python",
   "name": "python",
   "nbconvert_exporter": "python",
   "pygments_lexer": "ipython3",
   "version": "3.5.4"
  }
 },
 "nbformat": 4,
 "nbformat_minor": 2
}
